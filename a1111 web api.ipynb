{
 "cells": [
  {
   "cell_type": "code",
   "execution_count": 44,
   "id": "0c454ff1-8a15-4c5a-8b20-d38b2f51d533",
   "metadata": {},
   "outputs": [],
   "source": [
    "from datetime import datetime\n",
    "import requests\n",
    "import base64\n",
    "import json\n",
    "import time\n",
    "import os\n",
    "\n",
    "url = 'http://127.0.0.1:7860'\n",
    "\n",
    "payload = {\n",
    "    'prompt':('Cowboy Shot, high quality, masterpiece, (photo-realistic:1.2), high definition, ultra detailed, raw photo, '\n",
    "              'natural lighting, 1girl, beautifull face, beautifull eyes, fluffy long hair, silver hair, petit, small breast, '\n",
    "              'erotic, seductive, school uniform, pleated skirt, ultra short skirt, black g-string, (ass, buttocks), white shirt, '\n",
    "              'short sleeves, bracelet, bangs, jewelry, looking at viewer, detailed skin, detailed background'),\n",
    "    'negative_prompt':'FastNegativeV2',\n",
    "    'sd_model_checkpoint':'dreamshaper_8',\n",
    "    'steps':20,\n",
    "    'seed':-1,\n",
    "    'sampler_name':'DPM++ 2M Karras',\n",
    "    'batch_size':4,\n",
    "    'cfg_scale':7,\n",
    "    'width':512,\n",
    "    'height':768,\n",
    "    'override_settings':\n",
    "    {\n",
    "        'CLIP_stop_at_last_layers':2,\n",
    "        'sd_vae':'Automatic'\n",
    "    }\n",
    "}\n",
    "\n",
    "response = requests.post(url=f'{url}/sdapi/v1/txt2img', json=payload)\n",
    "r = response.json()"
   ]
  },
  {
   "cell_type": "code",
   "execution_count": 45,
   "id": "d6885ede-15bb-40cf-8564-af2482c4b580",
   "metadata": {},
   "outputs": [],
   "source": [
    "for index, image_str in enumerate(r.get('images')):\n",
    "    with open(f'../{index}.png', \"wb\") as f:\n",
    "        f.write(base64.b64decode(image_str))\n",
    "        # save_path = os.path.join(out_dir_t2i, f'txt2img-{timestamp()}-{index}.png')"
   ]
  },
  {
   "cell_type": "code",
   "execution_count": null,
   "id": "885efe81-e4dd-45b6-9ea9-32376cbc46e9",
   "metadata": {},
   "outputs": [],
   "source": []
  }
 ],
 "metadata": {
  "kernelspec": {
   "display_name": "Python 3 (ipykernel)",
   "language": "python",
   "name": "python3"
  },
  "language_info": {
   "codemirror_mode": {
    "name": "ipython",
    "version": 3
   },
   "file_extension": ".py",
   "mimetype": "text/x-python",
   "name": "python",
   "nbconvert_exporter": "python",
   "pygments_lexer": "ipython3",
   "version": "3.12.0"
  }
 },
 "nbformat": 4,
 "nbformat_minor": 5
}
